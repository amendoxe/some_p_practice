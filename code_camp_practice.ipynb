{
 "cells": [
  {
   "cell_type": "code",
   "execution_count": 6,
   "metadata": {},
   "outputs": [],
   "source": [
    "countries_list = [\"mexico\", \"japan\", \"germany\", \"new zeland\", \"argentina\"]\n",
    "some_string = \"this is a string\""
   ]
  },
  {
   "cell_type": "code",
   "execution_count": 8,
   "metadata": {},
   "outputs": [
    {
     "name": "stdout",
     "output_type": "stream",
     "text": [
      "t 0\n",
      "h 1\n",
      "i 2\n",
      "s 3\n",
      "  4\n",
      "i 2\n",
      "s 3\n",
      "  4\n",
      "a 8\n",
      "  4\n",
      "s 3\n",
      "t 0\n",
      "r 12\n",
      "i 2\n",
      "n 14\n",
      "g 15\n"
     ]
    }
   ],
   "source": [
    "for i in some_string:\n",
    "    index = some_string.find(i)\n",
    "    print(i, index)"
   ]
  },
  {
   "cell_type": "code",
   "execution_count": 19,
   "metadata": {},
   "outputs": [
    {
     "name": "stdout",
     "output_type": "stream",
     "text": [
      "character: H original space: 7 shifted: 10 new character: nk\n",
      "character: e original space: 4 shifted: 7 new character: nkh\n",
      "character: l original space: 11 shifted: 14 new character: nkho\n",
      "character: l original space: 11 shifted: 14 new character: nkhoo\n",
      "character: o original space: 14 shifted: 17 new character: nkhoor\n",
      "character:   original space: -1 shifted: 2 new character: nkhoorc\n",
      "character: p original space: 15 shifted: 18 new character: nkhoorcs\n",
      "character: a original space: 0 shifted: 3 new character: nkhoorcsd\n",
      "character: n original space: 13 shifted: 16 new character: nkhoorcsdq\n",
      "character: c original space: 2 shifted: 5 new character: nkhoorcsdqf\n",
      "character: a original space: 0 shifted: 3 new character: nkhoorcsdqfd\n",
      "character: k original space: 10 shifted: 13 new character: nkhoorcsdqfdn\n",
      "character: e original space: 4 shifted: 7 new character: nkhoorcsdqfdnh\n",
      "character: s original space: 18 shifted: 21 new character: nkhoorcsdqfdnhv\n",
      "character:   original space: -1 shifted: 2 new character: nkhoorcsdqfdnhvc\n",
      "character: I original space: 8 shifted: 11 new character: nkhoorcsdqfdnhvcl\n",
      "character: m original space: 12 shifted: 15 new character: nkhoorcsdqfdnhvclp\n",
      "character:   original space: -1 shifted: 2 new character: nkhoorcsdqfdnhvclpc\n",
      "character: b original space: 1 shifted: 4 new character: nkhoorcsdqfdnhvclpce\n",
      "character: a original space: 0 shifted: 3 new character: nkhoorcsdqfdnhvclpced\n",
      "character: c original space: 2 shifted: 5 new character: nkhoorcsdqfdnhvclpcedf\n",
      "character: k original space: 10 shifted: 13 new character: nkhoorcsdqfdnhvclpcedfn\n",
      "\n"
     ]
    }
   ],
   "source": [
    "alphabet = 'abcdefghijklmnopqrstuvwxyz'\n",
    "shift = 3\n",
    "phrase = 'Hello pancakes Im back'\n",
    "# find each letter of the phrase and give back the number in the alphabet\n",
    "# increase the letter number by shift spaces and save in shifted\n",
    "# find the letter in the space shifted in the alphabet\n",
    "# -1 means that the letter is not found with .find()\n",
    "# save the new phrase\n",
    "new_phrase = ''\n",
    "for letter in phrase:\n",
    "    space = alphabet.find(letter.lower())\n",
    "    shifted = space + shift\n",
    "    # here comes the fun part,\n",
    "    new_letter += alphabet[shifted]\n",
    "    print('character:', letter, 'original space:', space,\n",
    "          'shifted:', shifted, 'new character:', new_letter)\n",
    "print('whoot')\n",
    "print(new_phrase)"
   ]
  }
 ],
 "metadata": {
  "kernelspec": {
   "display_name": ".env",
   "language": "python",
   "name": "python3"
  },
  "language_info": {
   "codemirror_mode": {
    "name": "ipython",
    "version": 3
   },
   "file_extension": ".py",
   "mimetype": "text/x-python",
   "name": "python",
   "nbconvert_exporter": "python",
   "pygments_lexer": "ipython3",
   "version": "3.12.4"
  }
 },
 "nbformat": 4,
 "nbformat_minor": 2
}
