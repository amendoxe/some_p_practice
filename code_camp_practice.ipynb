{
 "cells": [
  {
   "cell_type": "code",
   "execution_count": 6,
   "metadata": {},
   "outputs": [],
   "source": [
    "countries_list = [\"mexico\", \"japan\", \"germany\", \"new zeland\", \"argentina\"]\n",
    "some_string = \"this is a string\""
   ]
  },
  {
   "cell_type": "code",
   "execution_count": 8,
   "metadata": {},
   "outputs": [
    {
     "name": "stdout",
     "output_type": "stream",
     "text": [
      "t 0\n",
      "h 1\n",
      "i 2\n",
      "s 3\n",
      "  4\n",
      "i 2\n",
      "s 3\n",
      "  4\n",
      "a 8\n",
      "  4\n",
      "s 3\n",
      "t 0\n",
      "r 12\n",
      "i 2\n",
      "n 14\n",
      "g 15\n"
     ]
    }
   ],
   "source": [
    "for i in some_string:\n",
    "    index = some_string.find(i)\n",
    "    print(i, index)"
   ]
  },
  {
   "cell_type": "code",
   "execution_count": 26,
   "metadata": {},
   "outputs": [
    {
     "name": "stdout",
     "output_type": "stream",
     "text": [
      "character: H original space: 7 shifted: 10 new character: k\n",
      "character: e original space: 4 shifted: 7 new character: h\n",
      "character: l original space: 11 shifted: 14 new character: o\n",
      "character: l original space: 11 shifted: 14 new character: o\n",
      "character: o original space: 14 shifted: 17 new character: r\n",
      "character: p original space: 15 shifted: 18 new character: s\n",
      "character: a original space: 0 shifted: 3 new character: d\n",
      "character: n original space: 13 shifted: 16 new character: q\n",
      "character: c original space: 2 shifted: 5 new character: f\n",
      "character: a original space: 0 shifted: 3 new character: d\n",
      "character: k original space: 10 shifted: 13 new character: n\n",
      "character: e original space: 4 shifted: 7 new character: h\n",
      "character: s original space: 18 shifted: 21 new character: v\n",
      "character: I original space: 8 shifted: 11 new character: l\n",
      "character: ' original space: 26 shifted: 2 new character: c\n",
      "character: m original space: 12 shifted: 15 new character: p\n",
      "character: b original space: 1 shifted: 4 new character: e\n",
      "character: a original space: 0 shifted: 3 new character: d\n",
      "character: c original space: 2 shifted: 5 new character: f\n",
      "character: k original space: 10 shifted: 13 new character: n\n",
      "whoot\n",
      "khoor sdqfdnhv lcp edfn\n"
     ]
    }
   ],
   "source": [
    "alphabet = 'abcdefghijklmnopqrstuvwxyz\\''\n",
    "shift = 3\n",
    "phrase = \"Hello pancakes I'm back\"\n",
    "# find each letter of the phrase and give back the number in the alphabet\n",
    "# increase the letter number by shift spaces and save in shifted\n",
    "# find the letter in the space shifted in the alphabet\n",
    "# -1 means that the letter is not found with .find()\n",
    "# save the new phrase\n",
    "new_phrase = ''\n",
    "for letter in phrase:\n",
    "\n",
    "    space = alphabet.find(letter.lower())\n",
    "    if space == -1:\n",
    "        new_phrase += \" \"\n",
    "    else:\n",
    "        shifted = (space + shift) % len(alphabet)\n",
    "        # here comes the fun part, we have to manage spaces and z\n",
    "        new_letter = alphabet[shifted]\n",
    "        new_phrase += new_letter\n",
    "        print('character:', letter, 'original space:', space,\n",
    "              'shifted:', shifted, 'new character:', new_letter)\n",
    "print('whoot')\n",
    "print(new_phrase)"
   ]
  },
  {
   "cell_type": "code",
   "execution_count": 28,
   "metadata": {},
   "outputs": [
    {
     "name": "stdout",
     "output_type": "stream",
     "text": [
      "5\n"
     ]
    }
   ],
   "source": [
    "# some Strings\n",
    "a = int(input(\"type a number\"))\n",
    "b = int(input(\"type a number\"))\n",
    "z = a + b\n",
    "print(z)"
   ]
  },
  {
   "cell_type": "code",
   "execution_count": 30,
   "metadata": {},
   "outputs": [
    {
     "name": "stdout",
     "output_type": "stream",
     "text": [
      "Hello pancakes I'm back\n"
     ]
    },
    {
     "data": {
      "text/plain": [
       "4"
      ]
     },
     "execution_count": 30,
     "metadata": {},
     "output_type": "execute_result"
    }
   ],
   "source": [
    "print(phrase)\n",
    "phrase.find(\"o\")"
   ]
  },
  {
   "cell_type": "code",
   "execution_count": null,
   "metadata": {},
   "outputs": [],
   "source": [
    "def vigenere(message, keyword):\n",
    "    decyphered = \"\"\n",
    "    for char in message:\n",
    "        if char == \" \":\n",
    "            decyphered += \" \"\n",
    "        else:\n",
    "            #look up the char in the keyword save in keyword place\n",
    "            #if -1, look up on the alphabet\n",
    "            #else look for that word in the alphabet\n"
   ]
  },
  {
   "cell_type": "code",
   "execution_count": 31,
   "metadata": {},
   "outputs": [
    {
     "data": {
      "text/plain": [
       "27"
      ]
     },
     "execution_count": 31,
     "metadata": {},
     "output_type": "execute_result"
    }
   ],
   "source": [
    "len(alphabet)"
   ]
  }
 ],
 "metadata": {
  "kernelspec": {
   "display_name": ".env",
   "language": "python",
   "name": "python3"
  },
  "language_info": {
   "codemirror_mode": {
    "name": "ipython",
    "version": 3
   },
   "file_extension": ".py",
   "mimetype": "text/x-python",
   "name": "python",
   "nbconvert_exporter": "python",
   "pygments_lexer": "ipython3",
   "version": "3.12.4"
  }
 },
 "nbformat": 4,
 "nbformat_minor": 2
}
