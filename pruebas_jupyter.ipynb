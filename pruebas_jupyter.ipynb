{
 "cells": [
  {
   "cell_type": "code",
   "execution_count": 3,
   "metadata": {},
   "outputs": [
    {
     "name": "stdout",
     "output_type": "stream",
     "text": [
      "{'a': 2, 'b': 3, 'c': 9, 'd': 7}\n"
     ]
    }
   ],
   "source": [
    "dict1 = {\"a\": 2, \"b\": 3}\n",
    "dict2 = {\"c\": 9, \"d\": 7}\n",
    "dict1.update(dict2)\n",
    "print(dict1)\n"
   ]
  },
  {
   "cell_type": "code",
   "execution_count": 31,
   "metadata": {},
   "outputs": [],
   "source": [
    "number_list = [\"one\", \"two\", \"three\", \"four\", \"five\"]\n",
    "pets_list = [\"dog\", \"cat\", \"turtle\", \"ham ster\"]\n",
    "names_list = [\"jimmy\", \"timmy\", \"otoole\", \"wanda\", \"caroline\", \"paola\"]\n",
    "countries_list = [\"mexico\", \"japan\", \"germany\", \"new zeland\", \"argentina\"]"
   ]
  },
  {
   "cell_type": "code",
   "execution_count": 11,
   "metadata": {},
   "outputs": [
    {
     "name": "stdout",
     "output_type": "stream",
     "text": [
      "Type some kind of pet to know if it is on the list\n",
      "gat, it is NOT on the list\n"
     ]
    }
   ],
   "source": [
    "# in not in, enumerate()\n",
    "print(\"Type some kind of pet to know if it is on the list\")\n",
    "user_input = input()\n",
    "if user_input not in pets_list:\n",
    "    print(user_input+\", \" \"it is NOT on the list\")\n",
    "else:\n",
    "    print(\"you know it dawg\")"
   ]
  },
  {
   "cell_type": "code",
   "execution_count": 19,
   "metadata": {},
   "outputs": [
    {
     "name": "stdout",
     "output_type": "stream",
     "text": [
      "The pet: dog in the list is number 0\n",
      "The pet: cat in the list is number 1\n",
      "The pet: turtle in the list is number 2\n",
      "The pet: ham ster in the list is number 3\n",
      "{'dog': 0, 'cat': 1, 'turtle': 2, 'ham ster': 3}\n"
     ]
    }
   ],
   "source": [
    "# now with the enumerate stuff\n",
    "\"\"\"what the what?\"\"\"\n",
    "my_dictionary = {}\n",
    "for i, pet in enumerate(pets_list):\n",
    "    print(\"The pet:\", pet, \"in the list is number\", i)\n",
    "# TODO\n",
    "    \"\"\"How do I add this to a dictionary?\"\"\"\n",
    "# adding to the dictionary\n",
    "\n",
    "    my_dictionary[pet] = i\n",
    "print(my_dictionary)"
   ]
  },
  {
   "cell_type": "code",
   "execution_count": 7,
   "metadata": {},
   "outputs": [
    {
     "name": "stdout",
     "output_type": "stream",
     "text": [
      "even [0, 2, 4, 6, 8, 10]\n",
      "odd [1, 3, 5, 7, 9]\n"
     ]
    }
   ],
   "source": [
    "# odd numbers\n",
    "number_list_two = [0, 1, 2, 3, 4, 5, 6, 7, 8, 9, 10]\n",
    "print(\"even\", number_list_two[::2])\n",
    "print(\"odd\", number_list_two[1::2])"
   ]
  },
  {
   "cell_type": "code",
   "execution_count": 12,
   "metadata": {},
   "outputs": [
    {
     "name": "stdout",
     "output_type": "stream",
     "text": [
      "string\n",
      "g\n",
      "gnirts\n"
     ]
    }
   ],
   "source": [
    "this_string = \"string\"\n",
    "print(this_string)\n",
    "last_element = this_string[-1]\n",
    "print(last_element)\n",
    "this_string_reversed = this_string[::-1]\n",
    "print(this_string_reversed)"
   ]
  },
  {
   "cell_type": "code",
   "execution_count": 17,
   "metadata": {},
   "outputs": [
    {
     "name": "stdout",
     "output_type": "stream",
     "text": [
      "type a number\n",
      "type a number\n"
     ]
    },
    {
     "ename": "NameError",
     "evalue": "name 'division' is not defined",
     "output_type": "error",
     "traceback": [
      "\u001b[0;31m---------------------------------------------------------------------------\u001b[0m",
      "\u001b[0;31mNameError\u001b[0m                                 Traceback (most recent call last)",
      "Cell \u001b[0;32mIn[17], line 5\u001b[0m\n\u001b[1;32m      3\u001b[0m \u001b[38;5;28mprint\u001b[39m(\u001b[38;5;124m\"\u001b[39m\u001b[38;5;124mtype a number\u001b[39m\u001b[38;5;124m\"\u001b[39m)\n\u001b[1;32m      4\u001b[0m num2 \u001b[38;5;241m=\u001b[39m \u001b[38;5;28minput\u001b[39m()\n\u001b[0;32m----> 5\u001b[0m \u001b[38;5;28mprint\u001b[39m(\u001b[38;5;124m\"\u001b[39m\u001b[38;5;124mthe result is:\u001b[39m\u001b[38;5;124m\"\u001b[39m, \u001b[43mdivision\u001b[49m(num1, num2))\n\u001b[1;32m      8\u001b[0m \u001b[38;5;28;01mdef\u001b[39;00m \u001b[38;5;21mdivision\u001b[39m(numerador, denominador):\n\u001b[1;32m      9\u001b[0m     \u001b[38;5;28;01mtry\u001b[39;00m:\n",
      "\u001b[0;31mNameError\u001b[0m: name 'division' is not defined"
     ]
    }
   ],
   "source": [
    "def division(numerador, denominador):\n",
    "    try:\n",
    "        total = numerador / denominador\n",
    "    except NameError:\n",
    "        print(\"Division by Zero is Not defined\")\n",
    "    return total\n",
    "print(\"type a number\")\n",
    "num1 = input()\n",
    "print(\"type a number\")\n",
    "num2 = input()\n",
    "print(\"the result is:\", division(num1, num2))\n"
   ]
  },
  {
   "cell_type": "code",
   "execution_count": 21,
   "metadata": {},
   "outputs": [
    {
     "name": "stdout",
     "output_type": "stream",
     "text": [
      "Ended because it is not a character\n"
     ]
    }
   ],
   "source": [
    "while True:\n",
    "    usr_input = input(\"type a character: \")\n",
    "    if not usr_input.isalpha():\n",
    "        break\n",
    "    else:\n",
    "        print(usr_input)\n",
    "print(\"Ended because it is not a character\")"
   ]
  },
  {
   "cell_type": "code",
   "execution_count": 24,
   "metadata": {},
   "outputs": [
    {
     "name": "stdout",
     "output_type": "stream",
     "text": [
      "[1, 2, 3, 4, 1, 2, 3, 4]\n",
      "10\n"
     ]
    }
   ],
   "source": [
    "\"lambda function\"\n",
    "def lam_test(z): return z*2\n",
    "\n",
    "\n",
    "print(lam_test([1, 2, 3, 4]))\n",
    "print(lam_test(5))"
   ]
  },
  {
   "cell_type": "code",
   "execution_count": 29,
   "metadata": {},
   "outputs": [
    {
     "name": "stdout",
     "output_type": "stream",
     "text": [
      "HellO_this_is_a_string_Or_sOmething,_maybe_anOther\n"
     ]
    }
   ],
   "source": [
    "'''maketrans'''\n",
    "my_strint = \"Hello this is a string or something, maybe another\"\n",
    "trans_table = str.maketrans({\" \": \"_\", \"o\": \"O\"})\n",
    "print(my_strint.translate(trans_table))"
   ]
  },
  {
   "cell_type": "code",
   "execution_count": 36,
   "metadata": {},
   "outputs": [
    {
     "name": "stdout",
     "output_type": "stream",
     "text": [
      "one\n",
      "two\n",
      "three\n",
      "four\n",
      "five\n"
     ]
    }
   ],
   "source": [
    "my_iterator = iter(number_list)\n",
    "print(next(my_iterator))\n",
    "print(next(my_iterator))\n",
    "print(next(my_iterator))\n",
    "print(next(my_iterator))\n",
    "print(next(my_iterator))"
   ]
  },
  {
   "cell_type": "code",
   "execution_count": 75,
   "metadata": {},
   "outputs": [
    {
     "name": "stdout",
     "output_type": "stream",
     "text": [
      "[{'amount': 50, 'category': 'food'}, {'amount': 20, 'category': 'food'}]\n",
      "-----------------\n",
      "{'amount': 50, 'category': 'food'}\n",
      "50\n",
      "--------------\n",
      "[{'amount': 50, 'category': 'food'}, {'amount': 20, 'category': 'supplies'}, {'amount': 20, 'category': 'food'}]\n",
      "amount category\n",
      "amount category\n",
      "amount category\n"
     ]
    }
   ],
   "source": [
    "\"\"\"building a iterator\"\"\"\n",
    "expenses = [{\"amount\": 50, \"category\": \"food\"},\n",
    "            {\"amount\": 20,\n",
    "             \"category\": \"supplies\"}, {\"amount\": 20, \"category\": \"food\"}]\n",
    "\n",
    "\n",
    "def filter_by_category(expenses, category):\n",
    "    return filter(lambda expense: expense[\"category\"] == category, expenses)\n",
    "\n",
    "\n",
    "filtered_expenses = filter_by_category(expenses, \"food\")\n",
    "\n",
    "print(list(filtered_expenses))\n",
    "print(\"-----------------\")\n",
    "print(expenses[0])\n",
    "print(expenses[0][\"amount\"])\n",
    "print('--------------')\n",
    "print(expenses)\n"
   ]
  },
  {
   "cell_type": "code",
   "execution_count": 79,
   "metadata": {},
   "outputs": [
    {
     "name": "stdout",
     "output_type": "stream",
     "text": [
      "['a', 'c', 'd', 'f', 'l', 'o', 's', 'w', 'y', 'z']\n"
     ]
    }
   ],
   "source": [
    "some_other_string = \"fsdloywzca\"\n",
    "print(sorted(some_other_string))"
   ]
  },
  {
   "cell_type": "code",
   "execution_count": 80,
   "metadata": {},
   "outputs": [
    {
     "name": "stdout",
     "output_type": "stream",
     "text": [
      "4634999424\n",
      "___________________\n",
      "[{'amount': 50, 'category': 'food'}, {'amount': 20, 'category': 'supplies'}, {'amount': 20, 'category': 'food'}]\n",
      "4634987136\n",
      "------------------\n",
      "[{'amount': 50, 'category': 'food'}, {'amount': 20, 'category': 'supplies'}, {'amount': 20, 'category': 'food'}]\n",
      "4634990528\n"
     ]
    }
   ],
   "source": [
    "\"\"\"now lets try to copy some lists\"\"\"\n",
    "\"\"\"theres two ways to go about it\n",
    "one is importing copy and the other is making a slice\"\"\"\n",
    "import copy\n",
    "print(id(expenses))\n",
    "print(\"___________________\")\n",
    "new_list = copy.copy(expenses)\n",
    "print(new_list)\n",
    "print(id(new_list))\n",
    "print(\"------------------\")\n",
    "new_second_list = expenses[:]\n",
    "print(new_second_list)\n",
    "print(id(new_second_list))"
   ]
  }
 ],
 "metadata": {
  "kernelspec": {
   "display_name": ".env",
   "language": "python",
   "name": "python3"
  },
  "language_info": {
   "codemirror_mode": {
    "name": "ipython",
    "version": 3
   },
   "file_extension": ".py",
   "mimetype": "text/x-python",
   "name": "python",
   "nbconvert_exporter": "python",
   "pygments_lexer": "ipython3",
   "version": "3.12.6"
  }
 },
 "nbformat": 4,
 "nbformat_minor": 2
}
