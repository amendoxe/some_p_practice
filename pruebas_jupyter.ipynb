{
 "cells": [
  {
   "cell_type": "code",
   "execution_count": 3,
   "metadata": {},
   "outputs": [
    {
     "name": "stdout",
     "output_type": "stream",
     "text": [
      "{'a': 2, 'b': 3, 'c': 9, 'd': 7}\n"
     ]
    }
   ],
   "source": [
    "dict1 = {\"a\": 2, \"b\": 3}\n",
    "dict2 = {\"c\": 9, \"d\": 7}\n",
    "dict1.update(dict2)\n",
    "print(dict1)\n"
   ]
  },
  {
   "cell_type": "code",
   "execution_count": 4,
   "metadata": {},
   "outputs": [],
   "source": [
    "number_list = [\"one\", \"two\", \"three\", \"four\", \"five\"]\n",
    "pets_list = [\"dog\", \"cat\", \"turtle\", \"ham ster\"]\n",
    "names_list = [\"jimmy\", \"timmy\", \"otoole\", \"wanda\", \"caroline\", \"paola\"]\n",
    "countries_list = [\"mexico\", \"japan\", \"germany\", \"new zeland\", \"argentina\"]"
   ]
  },
  {
   "cell_type": "code",
   "execution_count": 11,
   "metadata": {},
   "outputs": [
    {
     "name": "stdout",
     "output_type": "stream",
     "text": [
      "Type some kind of pet to know if it is on the list\n",
      "gat, it is NOT on the list\n"
     ]
    }
   ],
   "source": [
    "# in not in, enumerate()\n",
    "print(\"Type some kind of pet to know if it is on the list\")\n",
    "user_input = input()\n",
    "if user_input not in pets_list:\n",
    "    print(user_input+\", \" \"it is NOT on the list\")\n",
    "else:\n",
    "    print(\"you know it dawg\")"
   ]
  },
  {
   "cell_type": "code",
   "execution_count": 19,
   "metadata": {},
   "outputs": [
    {
     "name": "stdout",
     "output_type": "stream",
     "text": [
      "The pet: dog in the list is number 0\n",
      "The pet: cat in the list is number 1\n",
      "The pet: turtle in the list is number 2\n",
      "The pet: ham ster in the list is number 3\n",
      "{'dog': 0, 'cat': 1, 'turtle': 2, 'ham ster': 3}\n"
     ]
    }
   ],
   "source": [
    "# now with the enumerate stuff\n",
    "\"\"\"what the what?\"\"\"\n",
    "my_dictionary = {}\n",
    "for i, pet in enumerate(pets_list):\n",
    "    print(\"The pet:\", pet, \"in the list is number\", i)\n",
    "# TODO\n",
    "    \"\"\"How do I add this to a dictionary?\"\"\"\n",
    "# adding to the dictionary\n",
    "\n",
    "    my_dictionary[pet] = i\n",
    "print(my_dictionary)"
   ]
  },
  {
   "cell_type": "code",
   "execution_count": 7,
   "metadata": {},
   "outputs": [
    {
     "name": "stdout",
     "output_type": "stream",
     "text": [
      "even [0, 2, 4, 6, 8, 10]\n",
      "odd [1, 3, 5, 7, 9]\n"
     ]
    }
   ],
   "source": [
    "# odd numbers\n",
    "number_list_two = [0, 1, 2, 3, 4, 5, 6, 7, 8, 9, 10]\n",
    "print(\"even\", number_list_two[::2])\n",
    "print(\"odd\", number_list_two[1::2])"
   ]
  },
  {
   "cell_type": "code",
   "execution_count": 12,
   "metadata": {},
   "outputs": [
    {
     "name": "stdout",
     "output_type": "stream",
     "text": [
      "string\n",
      "g\n",
      "gnirts\n"
     ]
    }
   ],
   "source": [
    "this_string = \"string\"\n",
    "print(this_string)\n",
    "last_element = this_string[-1]\n",
    "print(last_element)\n",
    "this_string_reversed = this_string[::-1]\n",
    "print(this_string_reversed)"
   ]
  },
  {
   "cell_type": "code",
   "execution_count": 17,
   "metadata": {},
   "outputs": [
    {
     "name": "stdout",
     "output_type": "stream",
     "text": [
      "type a number\n",
      "type a number\n"
     ]
    },
    {
     "ename": "NameError",
     "evalue": "name 'division' is not defined",
     "output_type": "error",
     "traceback": [
      "\u001b[0;31m---------------------------------------------------------------------------\u001b[0m",
      "\u001b[0;31mNameError\u001b[0m                                 Traceback (most recent call last)",
      "Cell \u001b[0;32mIn[17], line 5\u001b[0m\n\u001b[1;32m      3\u001b[0m \u001b[38;5;28mprint\u001b[39m(\u001b[38;5;124m\"\u001b[39m\u001b[38;5;124mtype a number\u001b[39m\u001b[38;5;124m\"\u001b[39m)\n\u001b[1;32m      4\u001b[0m num2 \u001b[38;5;241m=\u001b[39m \u001b[38;5;28minput\u001b[39m()\n\u001b[0;32m----> 5\u001b[0m \u001b[38;5;28mprint\u001b[39m(\u001b[38;5;124m\"\u001b[39m\u001b[38;5;124mthe result is:\u001b[39m\u001b[38;5;124m\"\u001b[39m, \u001b[43mdivision\u001b[49m(num1, num2))\n\u001b[1;32m      8\u001b[0m \u001b[38;5;28;01mdef\u001b[39;00m \u001b[38;5;21mdivision\u001b[39m(numerador, denominador):\n\u001b[1;32m      9\u001b[0m     \u001b[38;5;28;01mtry\u001b[39;00m:\n",
      "\u001b[0;31mNameError\u001b[0m: name 'division' is not defined"
     ]
    }
   ],
   "source": [
    "print(\"type a number\")\n",
    "num1 = input()\n",
    "print(\"type a number\")\n",
    "num2 = input()\n",
    "print(\"the result is:\", division(num1, num2))\n",
    "\n",
    "\n",
    "def division(numerador, denominador):\n",
    "    try:\n",
    "        total = numerador / denominador\n",
    "    except NameError:\n",
    "        print(\"Division by Zero is Not defined\")\n",
    "    return total"
   ]
  }
 ],
 "metadata": {
  "kernelspec": {
   "display_name": ".env",
   "language": "python",
   "name": "python3"
  },
  "language_info": {
   "codemirror_mode": {
    "name": "ipython",
    "version": 3
   },
   "file_extension": ".py",
   "mimetype": "text/x-python",
   "name": "python",
   "nbconvert_exporter": "python",
   "pygments_lexer": "ipython3",
   "version": "3.12.6"
  }
 },
 "nbformat": 4,
 "nbformat_minor": 2
}
