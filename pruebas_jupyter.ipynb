{
 "cells": [
  {
   "cell_type": "code",
   "execution_count": 3,
   "metadata": {},
   "outputs": [
    {
     "name": "stdout",
     "output_type": "stream",
     "text": [
      "{'a': 2, 'b': 3, 'c': 9, 'd': 7}\n"
     ]
    }
   ],
   "source": [
    "dict1 = {\"a\": 2, \"b\": 3}\n",
    "dict2 = {\"c\": 9, \"d\": 7}\n",
    "dict1.update(dict2)\n",
    "print(dict1)\n"
   ]
  },
  {
   "cell_type": "code",
   "execution_count": 4,
   "metadata": {},
   "outputs": [],
   "source": [
    "number_list = [\"one\", \"two\", \"three\", \"four\", \"five\"]\n",
    "pets_list = [\"dog\", \"cat\", \"turtle\", \"ham ster\"]\n",
    "names_list = [\"jimmy\", \"timmy\", \"otoole\", \"wanda\", \"caroline\", \"paola\"]\n",
    "countries_list = [\"mexico\", \"japan\", \"germany\", \"new zeland\", \"argentina\"]"
   ]
  },
  {
   "cell_type": "code",
   "execution_count": 11,
   "metadata": {},
   "outputs": [
    {
     "name": "stdout",
     "output_type": "stream",
     "text": [
      "Type some kind of pet to know if it is on the list\n",
      "gat, it is NOT on the list\n"
     ]
    }
   ],
   "source": [
    "# in not in, enumerate()\n",
    "print(\"Type some kind of pet to know if it is on the list\")\n",
    "user_input = input()\n",
    "if user_input not in pets_list:\n",
    "    print(user_input+\", \" \"it is NOT on the list\")\n",
    "else:\n",
    "    print(\"you know it dawg\")"
   ]
  },
  {
   "cell_type": "code",
   "execution_count": 19,
   "metadata": {},
   "outputs": [
    {
     "name": "stdout",
     "output_type": "stream",
     "text": [
      "The pet: dog in the list is number 0\n",
      "The pet: cat in the list is number 1\n",
      "The pet: turtle in the list is number 2\n",
      "The pet: ham ster in the list is number 3\n",
      "{'dog': 0, 'cat': 1, 'turtle': 2, 'ham ster': 3}\n"
     ]
    }
   ],
   "source": [
    "# now with the enumerate stuff\n",
    "\"\"\"what the what?\"\"\"\n",
    "my_dictionary = {}\n",
    "for i, pet in enumerate(pets_list):\n",
    "    print(\"The pet:\", pet, \"in the list is number\", i)\n",
    "# TODO\n",
    "    \"\"\"How do I add this to a dictionary?\"\"\"\n",
    "# adding to the dictionary\n",
    "\n",
    "    my_dictionary[pet] = i\n",
    "print(my_dictionary)"
   ]
  }
 ],
 "metadata": {
  "kernelspec": {
   "display_name": ".env",
   "language": "python",
   "name": "python3"
  },
  "language_info": {
   "codemirror_mode": {
    "name": "ipython",
    "version": 3
   },
   "file_extension": ".py",
   "mimetype": "text/x-python",
   "name": "python",
   "nbconvert_exporter": "python",
   "pygments_lexer": "ipython3",
   "version": "3.12.4"
  }
 },
 "nbformat": 4,
 "nbformat_minor": 2
}
